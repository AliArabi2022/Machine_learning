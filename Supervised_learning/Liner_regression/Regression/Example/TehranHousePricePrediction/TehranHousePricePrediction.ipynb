{
 "cells": [
  {
   "cell_type": "markdown",
   "id": "6c9e8bba-e5a8-43e9-adf7-c140f8770bf9",
   "metadata": {},
   "source": [
    "For this section, we will use regression to predict house prices in different regions of Tehran. The Dataset used is recorded on the Divar website."
   ]
  },
  {
   "cell_type": "code",
   "execution_count": 19,
   "id": "4edb8954-d21d-460a-894e-afd9a54924eb",
   "metadata": {},
   "outputs": [],
   "source": [
    "import pandas as pd\n",
    "import numpy as np\n",
    "import matplotlib.pyplot as plt\n",
    "from sklearn.preprocessing import PolynomialFeatures\n",
    "from sklearn.model_selection import train_test_split\n",
    "from sklearn.linear_model import LinearRegression\n",
    "from sklearn.metrics import mean_squared_error"
   ]
  },
  {
   "cell_type": "code",
   "execution_count": 20,
   "id": "1738875e-8e58-4b1a-ac3c-6d33a3bf0cc1",
   "metadata": {},
   "outputs": [
    {
     "data": {
      "application/vnd.microsoft.datawrangler.viewer.v0+json": {
       "columns": [
        {
         "name": "index",
         "rawType": "int64",
         "type": "integer"
        },
        {
         "name": "Area",
         "rawType": "int64",
         "type": "integer"
        },
        {
         "name": "Room",
         "rawType": "int64",
         "type": "integer"
        },
        {
         "name": "Parking",
         "rawType": "bool",
         "type": "boolean"
        },
        {
         "name": "Warehouse",
         "rawType": "bool",
         "type": "boolean"
        },
        {
         "name": "Elevator",
         "rawType": "bool",
         "type": "boolean"
        },
        {
         "name": "Address",
         "rawType": "object",
         "type": "string"
        },
        {
         "name": "Price",
         "rawType": "int64",
         "type": "integer"
        },
        {
         "name": "PriceUSD",
         "rawType": "float64",
         "type": "float"
        }
       ],
       "conversionMethod": "pd.DataFrame",
       "ref": "e71feed9-1211-43e0-9b7c-b41d94c09ac0",
       "rows": [
        [
         "0",
         "63",
         "1",
         "True",
         "True",
         "True",
         "Shahran",
         "1850000000",
         "61666.67"
        ],
        [
         "1",
         "60",
         "1",
         "True",
         "True",
         "True",
         "Shahran",
         "1850000000",
         "61666.67"
        ],
        [
         "2",
         "79",
         "2",
         "True",
         "True",
         "True",
         "Pardis",
         "550000000",
         "18333.33"
        ],
        [
         "3",
         "95",
         "2",
         "True",
         "True",
         "True",
         "Shahrake Qods",
         "902500000",
         "30083.33"
        ],
        [
         "4",
         "123",
         "2",
         "True",
         "True",
         "True",
         "Shahrake Gharb",
         "7000000000",
         "233333.33"
        ]
       ],
       "shape": {
        "columns": 8,
        "rows": 5
       }
      },
      "text/html": [
       "<div>\n",
       "<style scoped>\n",
       "    .dataframe tbody tr th:only-of-type {\n",
       "        vertical-align: middle;\n",
       "    }\n",
       "\n",
       "    .dataframe tbody tr th {\n",
       "        vertical-align: top;\n",
       "    }\n",
       "\n",
       "    .dataframe thead th {\n",
       "        text-align: right;\n",
       "    }\n",
       "</style>\n",
       "<table border=\"1\" class=\"dataframe\">\n",
       "  <thead>\n",
       "    <tr style=\"text-align: right;\">\n",
       "      <th></th>\n",
       "      <th>Area</th>\n",
       "      <th>Room</th>\n",
       "      <th>Parking</th>\n",
       "      <th>Warehouse</th>\n",
       "      <th>Elevator</th>\n",
       "      <th>Address</th>\n",
       "      <th>Price</th>\n",
       "      <th>PriceUSD</th>\n",
       "    </tr>\n",
       "  </thead>\n",
       "  <tbody>\n",
       "    <tr>\n",
       "      <th>0</th>\n",
       "      <td>63</td>\n",
       "      <td>1</td>\n",
       "      <td>True</td>\n",
       "      <td>True</td>\n",
       "      <td>True</td>\n",
       "      <td>Shahran</td>\n",
       "      <td>1850000000</td>\n",
       "      <td>61666.67</td>\n",
       "    </tr>\n",
       "    <tr>\n",
       "      <th>1</th>\n",
       "      <td>60</td>\n",
       "      <td>1</td>\n",
       "      <td>True</td>\n",
       "      <td>True</td>\n",
       "      <td>True</td>\n",
       "      <td>Shahran</td>\n",
       "      <td>1850000000</td>\n",
       "      <td>61666.67</td>\n",
       "    </tr>\n",
       "    <tr>\n",
       "      <th>2</th>\n",
       "      <td>79</td>\n",
       "      <td>2</td>\n",
       "      <td>True</td>\n",
       "      <td>True</td>\n",
       "      <td>True</td>\n",
       "      <td>Pardis</td>\n",
       "      <td>550000000</td>\n",
       "      <td>18333.33</td>\n",
       "    </tr>\n",
       "    <tr>\n",
       "      <th>3</th>\n",
       "      <td>95</td>\n",
       "      <td>2</td>\n",
       "      <td>True</td>\n",
       "      <td>True</td>\n",
       "      <td>True</td>\n",
       "      <td>Shahrake Qods</td>\n",
       "      <td>902500000</td>\n",
       "      <td>30083.33</td>\n",
       "    </tr>\n",
       "    <tr>\n",
       "      <th>4</th>\n",
       "      <td>123</td>\n",
       "      <td>2</td>\n",
       "      <td>True</td>\n",
       "      <td>True</td>\n",
       "      <td>True</td>\n",
       "      <td>Shahrake Gharb</td>\n",
       "      <td>7000000000</td>\n",
       "      <td>233333.33</td>\n",
       "    </tr>\n",
       "  </tbody>\n",
       "</table>\n",
       "</div>"
      ],
      "text/plain": [
       "   Area  Room  Parking  Warehouse  Elevator         Address       Price  \\\n",
       "0    63     1     True       True      True         Shahran  1850000000   \n",
       "1    60     1     True       True      True         Shahran  1850000000   \n",
       "2    79     2     True       True      True          Pardis   550000000   \n",
       "3    95     2     True       True      True   Shahrake Qods   902500000   \n",
       "4   123     2     True       True      True  Shahrake Gharb  7000000000   \n",
       "\n",
       "    PriceUSD  \n",
       "0   61666.67  \n",
       "1   61666.67  \n",
       "2   18333.33  \n",
       "3   30083.33  \n",
       "4  233333.33  "
      ]
     },
     "execution_count": 20,
     "metadata": {},
     "output_type": "execute_result"
    }
   ],
   "source": [
    "file_path = './source/housePrice.xlsx'\n",
    "df = pd.read_excel(file_path)\n",
    "df.head()"
   ]
  },
  {
   "cell_type": "code",
   "execution_count": 21,
   "id": "fafb11ff-9c0a-4ba4-95a8-3dd62e47c012",
   "metadata": {},
   "outputs": [
    {
     "name": "stdout",
     "output_type": "stream",
     "text": [
      "count    3.479000e+03\n",
      "mean     8.744000e+06\n",
      "std      3.167266e+08\n",
      "min      3.000000e+01\n",
      "25%      6.900000e+01\n",
      "50%      9.000000e+01\n",
      "75%      1.200000e+02\n",
      "max      1.616000e+10\n",
      "Name: Area, dtype: float64\n",
      "             Area  Room  Parking  Warehouse  Elevator            Address  \\\n",
      "570    3310000000     2     True       True      True        Ostad Moein   \n",
      "709   16160000000     3     True       True      True           Pasdaran   \n",
      "1604   8400000000     2     True       True      True         Gheitarieh   \n",
      "2802   2550000000     2     True       True      True  Central Janatabad   \n",
      "\n",
      "            Price   PriceUSD  \n",
      "570    3310000000  110333.33  \n",
      "709   16160000000  538666.67  \n",
      "1604   8700000000  290000.00  \n",
      "2802   2550000000   85000.00  \n"
     ]
    }
   ],
   "source": [
    "print(df[\"Area\"].describe())\n",
    "print(df[df[\"Area\"]>1e6])"
   ]
  },
  {
   "cell_type": "code",
   "execution_count": 22,
   "id": "7055b649-5860-463c-afc5-d59c1f9cbfb5",
   "metadata": {},
   "outputs": [
    {
     "data": {
      "application/vnd.microsoft.datawrangler.viewer.v0+json": {
       "columns": [
        {
         "name": "index",
         "rawType": "object",
         "type": "string"
        },
        {
         "name": "Area",
         "rawType": "float64",
         "type": "float"
        },
        {
         "name": "Room",
         "rawType": "float64",
         "type": "float"
        },
        {
         "name": "Price",
         "rawType": "float64",
         "type": "float"
        },
        {
         "name": "PriceUSD",
         "rawType": "float64",
         "type": "float"
        }
       ],
       "conversionMethod": "pd.DataFrame",
       "ref": "2f011d14-63f0-4e62-9955-47f3da781a05",
       "rows": [
        [
         "count",
         "3112.0",
         "3112.0",
         "3112.0",
         "3112.0"
        ],
        [
         "mean",
         "90.35347043701799",
         "1.9482647814910026",
         "3393832586.789203",
         "113127.75298843186"
        ],
        [
         "std",
         "30.79015767862203",
         "0.638089862319364",
         "2844133088.4525185",
         "94804.43631836955"
        ],
        [
         "min",
         "30.0",
         "0.0",
         "3600000.0",
         "120.0"
        ],
        [
         "25%",
         "66.0",
         "2.0",
         "1250000000.0",
         "41666.67"
        ],
        [
         "50%",
         "86.0",
         "2.0",
         "2450000000.0",
         "81666.67"
        ],
        [
         "75%",
         "109.0",
         "2.0",
         "4500000000.0",
         "150000.0"
        ],
        [
         "max",
         "192.0",
         "5.0",
         "12825000000.0",
         "427500.0"
        ]
       ],
       "shape": {
        "columns": 4,
        "rows": 8
       }
      },
      "text/html": [
       "<div>\n",
       "<style scoped>\n",
       "    .dataframe tbody tr th:only-of-type {\n",
       "        vertical-align: middle;\n",
       "    }\n",
       "\n",
       "    .dataframe tbody tr th {\n",
       "        vertical-align: top;\n",
       "    }\n",
       "\n",
       "    .dataframe thead th {\n",
       "        text-align: right;\n",
       "    }\n",
       "</style>\n",
       "<table border=\"1\" class=\"dataframe\">\n",
       "  <thead>\n",
       "    <tr style=\"text-align: right;\">\n",
       "      <th></th>\n",
       "      <th>Area</th>\n",
       "      <th>Room</th>\n",
       "      <th>Price</th>\n",
       "      <th>PriceUSD</th>\n",
       "    </tr>\n",
       "  </thead>\n",
       "  <tbody>\n",
       "    <tr>\n",
       "      <th>count</th>\n",
       "      <td>3112.000000</td>\n",
       "      <td>3112.000000</td>\n",
       "      <td>3.112000e+03</td>\n",
       "      <td>3112.000000</td>\n",
       "    </tr>\n",
       "    <tr>\n",
       "      <th>mean</th>\n",
       "      <td>90.353470</td>\n",
       "      <td>1.948265</td>\n",
       "      <td>3.393833e+09</td>\n",
       "      <td>113127.752988</td>\n",
       "    </tr>\n",
       "    <tr>\n",
       "      <th>std</th>\n",
       "      <td>30.790158</td>\n",
       "      <td>0.638090</td>\n",
       "      <td>2.844133e+09</td>\n",
       "      <td>94804.436318</td>\n",
       "    </tr>\n",
       "    <tr>\n",
       "      <th>min</th>\n",
       "      <td>30.000000</td>\n",
       "      <td>0.000000</td>\n",
       "      <td>3.600000e+06</td>\n",
       "      <td>120.000000</td>\n",
       "    </tr>\n",
       "    <tr>\n",
       "      <th>25%</th>\n",
       "      <td>66.000000</td>\n",
       "      <td>2.000000</td>\n",
       "      <td>1.250000e+09</td>\n",
       "      <td>41666.670000</td>\n",
       "    </tr>\n",
       "    <tr>\n",
       "      <th>50%</th>\n",
       "      <td>86.000000</td>\n",
       "      <td>2.000000</td>\n",
       "      <td>2.450000e+09</td>\n",
       "      <td>81666.670000</td>\n",
       "    </tr>\n",
       "    <tr>\n",
       "      <th>75%</th>\n",
       "      <td>109.000000</td>\n",
       "      <td>2.000000</td>\n",
       "      <td>4.500000e+09</td>\n",
       "      <td>150000.000000</td>\n",
       "    </tr>\n",
       "    <tr>\n",
       "      <th>max</th>\n",
       "      <td>192.000000</td>\n",
       "      <td>5.000000</td>\n",
       "      <td>1.282500e+10</td>\n",
       "      <td>427500.000000</td>\n",
       "    </tr>\n",
       "  </tbody>\n",
       "</table>\n",
       "</div>"
      ],
      "text/plain": [
       "              Area         Room         Price       PriceUSD\n",
       "count  3112.000000  3112.000000  3.112000e+03    3112.000000\n",
       "mean     90.353470     1.948265  3.393833e+09  113127.752988\n",
       "std      30.790158     0.638090  2.844133e+09   94804.436318\n",
       "min      30.000000     0.000000  3.600000e+06     120.000000\n",
       "25%      66.000000     2.000000  1.250000e+09   41666.670000\n",
       "50%      86.000000     2.000000  2.450000e+09   81666.670000\n",
       "75%     109.000000     2.000000  4.500000e+09  150000.000000\n",
       "max     192.000000     5.000000  1.282500e+10  427500.000000"
      ]
     },
     "execution_count": 22,
     "metadata": {},
     "output_type": "execute_result"
    }
   ],
   "source": [
    "# Data cleaning - removing outliers based on IQR\n",
    "Q1_area = df[\"Area\"].quantile(0.25)\n",
    "Q3_area = df[\"Area\"].quantile(0.75)\n",
    "IQR_area = Q3_area - Q1_area\n",
    "\n",
    "Q1_price = df[\"PriceUSD\"].quantile(0.25)\n",
    "Q3_price = df[\"PriceUSD\"].quantile(0.75)\n",
    "IQR_price = Q3_price - Q1_price\n",
    "\n",
    "lower_bound_area = Q1_area - 1.5 * IQR_area\n",
    "upper_bound_area = Q3_area +1.5 * IQR_area\n",
    "\n",
    "lower_bound_price = Q1_price - 1.5 * IQR_price\n",
    "upper_bound_price = Q3_price + 1.5 * IQR_price\n",
    "\n",
    "df_cleaned = df[(df[\"Area\"] >= lower_bound_area) & (df[\"Area\"] <= upper_bound_area) & \n",
    "                (df[\"PriceUSD\"] >= lower_bound_price) & (df[\"PriceUSD\"] <= upper_bound_price)]\n",
    "df_cleaned.describe()"
   ]
  },
  {
   "cell_type": "code",
   "execution_count": 23,
   "id": "4a4d990d-20a9-46d0-a4c7-14cb788814ba",
   "metadata": {},
   "outputs": [
    {
     "data": {
      "image/png": "[encoded data removed]",
      "text/plain": [
       "<Figure size 1200x500 with 2 Axes>"
      ]
     },
     "metadata": {},
     "output_type": "display_data"
    }
   ],
   "source": [
    "plt.figure(figsize = (12,5))\n",
    "\n",
    "plt.subplot(1,2,1)\n",
    "plt.hist(df_cleaned[\"Area\"], bins = 20 , color = 'blue', alpha= 0.7)\n",
    "plt.title(\"Distribution of Area\")\n",
    "\n",
    "plt.subplot(1,2,2)\n",
    "plt.hist(df_cleaned[\"PriceUSD\"], bins=20,color= \"green\", alpha = 0.7)\n",
    "plt.title('Distribution of PriceUSD')\n",
    "plt.show()\n"
   ]
  },
  {
   "cell_type": "code",
   "execution_count": null,
   "id": "3a224d26-0c33-4069-8364-9c880f506615",
   "metadata": {},
   "outputs": [],
   "source": [
    "#Function to compute the Root Mean Squared Error (RMSE)\n",
    "def compute_rms_error(y_ture,y_pred):\n",
    "    return np.sqrt(mean_squared_error(y_ture,y_pred))\n",
    "\n",
    "#function to creat polynomial features\n",
    "def polynomial_features(X,degree):\n",
    "    poly = PolynomialFeatures(degree=degree)\n",
    "    return poly.fit_transform(X)\n",
    "\n",
    "#function to perform polynomial regression\n",
    "def polynomial_regression(X,y,degree):\n",
    "    poly=PolynomialFeatures(degree = degree)\n",
    "    X_poly = poly.fit_transform(X)\n",
    "    model.fit(X_poly,y)\n",
    "    return model\n",
    "\n",
    "addresses = df_cleaned['Address'].unique()\n",
    "for address in addresses:\n",
    "    df_address = df_cleaned[df_cleaned['Address'] == address]\n",
    "    if len(df_address)<2:\n",
    "        print(f\"skipping address {address} due to insufficient samples.\")\n",
    "        continue\n",
    "    X = df_address[['Area']]\n",
    "    y = df_address['priceUSD']\n",
    "    X_train,X_test,y_train,y_test= train_test_split(X,y,test_size=.2,random_state=42)\n",
    "    \n",
    "    if len(X_train)<50 or len(X_test)<25:\n",
    "        print(f\"Skipping address {address} due to train-test split issues.\")\n",
    "        continue\n",
    "    else:\n",
    "        print(f\"Processing address:{address}\")\n",
    "\n",
    "    degrees = [2,3,5,8,10]\n",
    "    train_rms_error=[]\n",
    "    test_rms_error= []\n",
    "    \n",
    "\n",
    "\n"
   ]
  },
  {
   "cell_type": "code",
   "execution_count": null,
   "id": "075c7ce3-ff8d-4dc2-a0eb-10597a34e687",
   "metadata": {},
   "outputs": [],
   "source": []
  }
 ],
 "metadata": {
  "kernelspec": {
   "display_name": "Python 3",
   "language": "python",
   "name": "python3"
  },
  "language_info": {
   "codemirror_mode": {
    "name": "ipython",
    "version": 3
   },
   "file_extension": ".py",
   "mimetype": "text/x-python",
   "name": "python",
   "nbconvert_exporter": "python",
   "pygments_lexer": "ipython3",
   "version": "3.13.1"
  }
 },
 "nbformat": 4,
 "nbformat_minor": 5
}
