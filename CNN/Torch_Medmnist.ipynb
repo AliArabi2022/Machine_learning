{
 "cells": [
  {
   "cell_type": "markdown",
   "id": "f289b211",
   "metadata": {},
   "source": [
    "## Imports and Setup"
   ]
  },
  {
   "cell_type": "markdown",
   "id": "ce98844b",
   "metadata": {},
   "source": [
    "In this notebook we are going to work with the [MedMNIST](https://medmnist.com/) dataset. For simplicity, we are going to install medmnist so that it would be easier to work with it."
   ]
  },
  {
   "cell_type": "markdown",
   "id": "7a437c3e",
   "metadata": {},
   "source": [
    "Once again we must import our libraries. Notice that we are going to use `ChestMNIST` which is a dataset of *Chest X-Rays*."
   ]
  },
  {
   "cell_type": "code",
   "execution_count": null,
   "id": "816de1a2",
   "metadata": {},
   "outputs": [],
   "source": [
    "import torch\n",
    "import torch.nn as nn\n",
    "import torch.optim as optim\n",
    "from torchvision import transforms, utils\n",
    "from torch.utils.data import Dataset, DataLoader, random_split\n",
    "\n",
    "import numpy as np\n",
    "from tqdm import trange\n",
    "from medmnist import ChestMNIST\n",
    "from matplotlib import pyplot as plt\n",
    "from sklearn.metrics import hamming_loss, accuracy_score, precision_recall_fscore_support, average_precision_score"
   ]
  },
  {
   "cell_type": "code",
   "execution_count": null,
   "id": "7c6daed8",
   "metadata": {},
   "outputs": [],
   "source": [
    "# @title plotting helper function\n",
    "def plot_results(train_losses, val_losses):\n",
    "    plt.figure(figsize=(10, 5))\n",
    "    plt.plot(train_losses, label='Train Loss')\n",
    "    plt.plot(val_losses, label='Val Loss')\n",
    "    plt.xlabel('Epoch')\n",
    "    plt.ylabel('Loss')\n",
    "    plt.legend()\n",
    "    plt.show()"
   ]
  },
  {
   "cell_type": "markdown",
   "id": "f21290ff",
   "metadata": {},
   "source": [
    "To accelerate operations in the neural network, we move it to the GPU or MPS (for Apple silicon) if available."
   ]
  },
  {
   "cell_type": "code",
   "execution_count": null,
   "id": "16eb5942",
   "metadata": {},
   "outputs": [
    {
     "name": "stdout",
     "output_type": "stream",
     "text": [
      "Using cuda device\n"
     ]
    }
   ],
   "source": [
    "# Get cpu, gpu or mps device for training.\n",
    "device = (\n",
    "    \"cuda\"\n",
    "    if torch.cuda.is_available()\n",
    "    else \"mps\"\n",
    "    if torch.backends.mps.is_available()\n",
    "    else \"cpu\"\n",
    ")\n",
    "print(f\"Using {device} device\")"
   ]
  },
  {
   "cell_type": "markdown",
   "id": "3c2bb7c4",
   "metadata": {},
   "source": [
    "# Loading the Data"
   ]
  },
  {
   "cell_type": "markdown",
   "id": "d84bd417",
   "metadata": {},
   "source": [
    "To work with the data we must first download the dataset using `ChestMNIST`. We will normalize our data as well to get better results during training."
   ]
  },
  {
   "cell_type": "code",
   "execution_count": null,
   "id": "01bd5d42",
   "metadata": {},
   "outputs": [
    {
     "name": "stdout",
     "output_type": "stream",
     "text": [
      "Train dataset size: 78468\n",
      "Test dataset size: 22433\n"
     ]
    }
   ],
   "source": [
    "transform = transforms.Compose([transforms.ToTensor(),\n",
    "                                transforms.Normalize((0.5,), (0.5,))])\n",
    "\n",
    "train_dataset = ChestMNIST(split='train', transform=transform, download=True)\n",
    "test_dataset = ChestMNIST(split='test', transform=transform, download=True)\n",
    "\n",
    "print(f'Train dataset size: {len(train_dataset)}')\n",
    "print(f'Test dataset size: {len(test_dataset)}')"
   ]
  },
  {
   "cell_type": "markdown",
   "id": "145f9931",
   "metadata": {},
   "source": [
    "In this notebook, we will explore how to utilize validation sets in PyTorch by employing `random_split` from `torch.utils.data`"
   ]
  },
  {
   "cell_type": "code",
   "execution_count": null,
   "id": "a4a58d38",
   "metadata": {},
   "outputs": [
    {
     "name": "stdout",
     "output_type": "stream",
     "text": [
      "Train dataset size: 62774\n",
      "Validation dataset size: 15694\n",
      "Test dataset size: 22433\n"
     ]
    }
   ],
   "source": [
    "# Split the dataset into training and validation sets\n",
    "train_size = int(0.8 * len(train_dataset))\n",
    "val_size = len(train_dataset) - train_size\n",
    "train_dataset, val_dataset = random_split(train_dataset, [train_size, val_size])\n",
    "\n",
    "print(f'Train dataset size: {len(train_dataset)}')\n",
    "print(f'Validation dataset size: {len(val_dataset)}')\n",
    "print(f'Test dataset size: {len(test_dataset)}')"
   ]
  },
  {
   "cell_type": "markdown",
   "id": "a15afd32",
   "metadata": {},
   "source": [
    "While we could now proceed with our datasets, since the [MedMNIST](https://medmnist.com/) dataset provides validation sets itself, we are going to use its data."
   ]
  },
  {
   "cell_type": "code",
   "execution_count": null,
   "id": "626a82bf",
   "metadata": {},
   "outputs": [
    {
     "name": "stdout",
     "output_type": "stream",
     "text": [
      "Training dataset size: 78468\n",
      "Validation dataset size: 11219\n",
      "Testing dataset size: 22433\n"
     ]
    }
   ],
   "source": [
    "train_dataset = ChestMNIST(split='train', transform=transform, download=False)\n",
    "val_dataset = ChestMNIST(split='val', transform=transform, download=True)\n",
    "test_dataset = ChestMNIST(split='test', transform=transform, download=False)\n",
    "\n",
    "print(f'Training dataset size: {len(train_dataset)}')\n",
    "print(f'Validation dataset size: {len(val_dataset)}')\n",
    "print(f'Testing dataset size: {len(test_dataset)}')"
   ]
  },
  {
   "cell_type": "markdown",
   "id": "54f8e1ba",
   "metadata": {},
   "source": [
    "Same as before, we can make the dataloaders. Notice that we don't shuffle our validation and test sets but we do shuffle the training set."
   ]
  },
  {
   "cell_type": "code",
   "execution_count": null,
   "id": "ac5c8437",
   "metadata": {},
   "outputs": [],
   "source": [
    "# Create the dataloaders\n",
    "train_loader = DataLoader(dataset=train_dataset, batch_size=64, shuffle=True)\n",
    "val_loader = DataLoader(dataset=val_dataset, batch_size=64, shuffle=False)\n",
    "test_loader = DataLoader(dataset=test_dataset, batch_size=64, shuffle=False)"
   ]
  },
  {
   "cell_type": "markdown",
   "id": "a363a68e",
   "metadata": {},
   "source": [
    "Now lets see the dimensions of the data."
   ]
  },
  {
   "cell_type": "code",
   "execution_count": null,
   "id": "8cf9ec49",
   "metadata": {},
   "outputs": [
    {
     "name": "stdout",
     "output_type": "stream",
     "text": [
      "Shape of X [N, C, H, W]: torch.Size([64, 1, 28, 28])\n",
      "Shape of y: torch.Size([64, 14]) torch.int64\n"
     ]
    }
   ],
   "source": [
    "# Iterate over the data\n",
    "for x, y in test_loader:\n",
    "    print(f\"Shape of X [N, C, H, W]: {x.shape}\")\n",
    "    print(f\"Shape of y: {y.shape} {y.dtype}\")\n",
    "    break"
   ]
  },
  {
   "cell_type": "markdown",
   "id": "dc4ba2a2",
   "metadata": {},
   "source": [
    "Let's look at some of the data to see what we are dealing with!"
   ]
  },
  {
   "cell_type": "code",
   "execution_count": null,
   "id": "e2b1a142",
   "metadata": {},
   "outputs": [
    {
     "data": {
      "image/png": "[encoded data removed]",
      "text/plain": [
       "<Figure size 1000x500 with 10 Axes>"
      ]
     },
     "metadata": {},
     "output_type": "display_data"
    }
   ],
   "source": [
    "# Show First 10 Images\n",
    "\n",
    "plt.figure(figsize=(10, 5))\n",
    "for i in range(10):\n",
    "    plt.subplot(2, 5, i + 1)\n",
    "    plt.imshow(train_dataset[i][0].squeeze())\n",
    "    plt.title(f\"Label: {np.argmax(train_dataset[i][1])}\")\n",
    "    plt.axis('off')\n",
    "plt.show()"
   ]
  },
  {
   "cell_type": "markdown",
   "id": "0cef07ec",
   "metadata": {},
   "source": [
    "# Neural Network"
   ]
  },
  {
   "cell_type": "markdown",
   "id": "411aa4df",
   "metadata": {},
   "source": [
    "This time we are going to use batch normalization layers and leaky relu activation functions."
   ]
  },
  {
   "cell_type": "code",
   "execution_count": null,
   "id": "203bf010",
   "metadata": {},
   "outputs": [],
   "source": [
    "class SimpleNN(nn.Module):\n",
    "    def __init__(self, input_size, num_classes):\n",
    "        super(SimpleNN, self).__init__()\n",
    "        self.network = nn.Sequential(\n",
    "            nn.Flatten(),\n",
    "            nn.Linear(input_size, 128),\n",
    "            nn.LeakyReLU(0.2),\n",
    "            nn.BatchNorm1d(128),\n",
    "            nn.Linear(128, 128),\n",
    "            nn.LeakyReLU(0.2),\n",
    "            nn.BatchNorm1d(128),\n",
    "            nn.Linear(128, 64),\n",
    "            nn.LeakyReLU(0.2),\n",
    "            nn.BatchNorm1d(64),\n",
    "            nn.Linear(64, 64),\n",
    "            nn.LeakyReLU(0.2),\n",
    "            nn.BatchNorm1d(64),\n",
    "            nn.Linear(64, num_classes)\n",
    "        )\n",
    "\n",
    "    def forward(self, x):\n",
    "        return self.network(x)\n"
   ]
  },
  {
   "cell_type": "markdown",
   "id": "2d968ef9",
   "metadata": {},
   "source": [
    "# Training"
   ]
  },
  {
   "cell_type": "markdown",
   "id": "ab5d978d",
   "metadata": {},
   "source": [
    "To implement our training code more clearly, we are going to implement the following functions:\n",
    "\n",
    "\n",
    "*   `train_step`: By running this function we train the model for a single epoch.\n",
    "*   `test_step`: By running this function we will evaluate the models performance on the given dataloader without training the model.\n",
    "*   `train_model`: This function will use the aforementioned functions to fully train the model and evaluate the results.\n",
    "\n",
    "\n",
    "\n",
    "\n"
   ]
  },
  {
   "cell_type": "code",
   "execution_count": null,
   "id": "ded54db0",
   "metadata": {},
   "outputs": [],
   "source": [
    "def train_step(model, criterion, optimizer, dataloader=train_loader, device=device):\n",
    "    running_loss = 0\n",
    "    # Move the model to training mode\n",
    "    model.train()\n",
    "    # Iterate over the dataloader\n",
    "    for x, y in dataloader:\n",
    "        # Move the datapoints to same device as the model\n",
    "        x, y = x.to(device), y.to(device)\n",
    "        # Clear the gradients\n",
    "        optimizer.zero_grad()\n",
    "        # Predict the output and perform the forward pass\n",
    "        pred = model(x)\n",
    "        # Compute prediction error\n",
    "        loss = criterion(pred, y.float())\n",
    "        # Backpropagation\n",
    "        loss.backward()\n",
    "        # Update the model weights\n",
    "        optimizer.step()\n",
    "        # Update the running loss\n",
    "        running_loss += loss.item()\n",
    "    # Calculate and return the average loss\n",
    "    return running_loss / len(dataloader)\n",
    "\n",
    "\n",
    "def test_step(model, criterion, dataloader=val_loader, device=device):\n",
    "    running_loss = 0\n",
    "    # Move the model to training mode\n",
    "    model.eval()\n",
    "    # Disable gradient calculation\n",
    "    with torch.no_grad():\n",
    "      # Iterate over the dataloader\n",
    "      for x, y in dataloader:\n",
    "          # Move the datapoints to same device as the model\n",
    "          x, y = x.to(device), y.to(device)\n",
    "          # Predict the output and perform the forward pass\n",
    "          pred = model(x)\n",
    "          # Compute prediction error\n",
    "          loss = criterion(pred, y.float())\n",
    "          # Update the running loss\n",
    "          running_loss += loss.item()\n",
    "    # Calculate and return the average loss\n",
    "    return running_loss / len(dataloader)"
   ]
  },
  {
   "cell_type": "markdown",
   "id": "41379192",
   "metadata": {},
   "source": [
    "Now we have to implement the `train_model` function."
   ]
  },
  {
   "cell_type": "code",
   "execution_count": null,
   "id": "00ad21cc",
   "metadata": {},
   "outputs": [],
   "source": [
    "def train_model(model, n_epochs, optimizer, criterion, train_loader, val_loader, device=device):\n",
    "    train_losses, val_losses = [], []\n",
    "    for epoch in (pbar := trange(n_epochs)):\n",
    "        # Train the model\n",
    "        train_loss = train_step(model, criterion, optimizer, train_loader, device)\n",
    "        # Evaluate the model\n",
    "        val_loss = test_step(model, criterion, val_loader, device)\n",
    "        # Display the results\n",
    "        pbar.set_description(f'Train Loss = {train_loss:.3f} | Val Loss = {val_loss:.3f} ')\n",
    "        # Store the results\n",
    "        train_losses.append(train_loss), val_losses.append(val_loss)\n",
    "    # Plot the results\n",
    "    plot_results(train_losses, val_losses)\n",
    "    return train_losses, val_losses"
   ]
  },
  {
   "cell_type": "markdown",
   "id": "b7d642c3",
   "metadata": {},
   "source": [
    "All that remains for us to do is to define the loss metric and the optimizer to train the model."
   ]
  },
  {
   "cell_type": "code",
   "execution_count": null,
   "id": "c2c69439",
   "metadata": {},
   "outputs": [],
   "source": [
    "model = SimpleNN(input_size=28*28, num_classes=14).to(device)\n",
    "criterion = nn.BCEWithLogitsLoss()\n",
    "optimizer = optim.Adam(model.parameters(), lr=0.001)"
   ]
  },
  {
   "cell_type": "code",
   "execution_count": null,
   "id": "dac07833",
   "metadata": {},
   "outputs": [
    {
     "name": "stderr",
     "output_type": "stream",
     "text": [
      "Train Loss = 0.161 | Val Loss = 0.166 : 100%|██████████| 20/20 [09:34<00:00, 28.71s/it]\n"
     ]
    },
    {
     "data": {
      "image/png": "[encoded data removed]",
      "text/plain": [
       "<Figure size 1000x500 with 1 Axes>"
      ]
     },
     "metadata": {},
     "output_type": "display_data"
    }
   ],
   "source": [
    "results = train_model(model, 20, optimizer, criterion, train_loader, val_loader)"
   ]
  },
  {
   "cell_type": "markdown",
   "id": "2e60f9fb",
   "metadata": {},
   "source": [
    "# Evaluation"
   ]
  },
  {
   "cell_type": "code",
   "execution_count": null,
   "id": "e3357250",
   "metadata": {},
   "outputs": [],
   "source": [
    "def evaluate_model(model, data_loader, device=device):\n",
    "    model.eval()\n",
    "    all_labels = []\n",
    "    all_preds = []\n",
    "\n",
    "    with torch.no_grad():\n",
    "        for images, labels in data_loader:\n",
    "            images, labels = images.to(device), labels.to(device)\n",
    "            outputs = model(images)\n",
    "            preds = torch.sigmoid(outputs).cpu().numpy()\n",
    "            all_labels.extend(labels.cpu().numpy())\n",
    "            all_preds.extend(preds)\n",
    "\n",
    "    all_labels = np.array(all_labels)\n",
    "    all_preds = np.array(all_preds)\n",
    "\n",
    "    hamming = hamming_loss(all_labels, all_preds > 0.5)\n",
    "    subset_acc = accuracy_score(all_labels, all_preds > 0.5)\n",
    "    precision, recall, f1, _ = precision_recall_fscore_support(all_labels, all_preds > 0.5, average='macro')\n",
    "    avg_precision = average_precision_score(all_labels, all_preds, average='macro')\n",
    "\n",
    "    print(f'Hamming Loss: {hamming}')\n",
    "    print(f'Subset Accuracy: {subset_acc}')\n",
    "    print(f'Precision: {precision}')\n",
    "    print(f'Recall: {recall}')\n",
    "    print(f'F1-Score: {f1}')\n",
    "    print(f'Average Precision: {avg_precision}')\n",
    "\n",
    "    return {\n",
    "        'Hamming Loss': hamming,\n",
    "        'Subset Accuracy': subset_acc,\n",
    "        'Precision': precision,\n",
    "        'Recall': recall,\n",
    "        'F1-Score': f1,\n",
    "        'Average Precision': avg_precision\n",
    "    }"
   ]
  },
  {
   "cell_type": "code",
   "execution_count": null,
   "id": "37c1416d",
   "metadata": {},
   "outputs": [
    {
     "name": "stdout",
     "output_type": "stream",
     "text": [
      "Hamming Loss: 0.052537397074463005\n",
      "Subset Accuracy: 0.530869700887086\n",
      "Precision: 0.16094882025467933\n",
      "Recall: 0.011337376773118317\n",
      "F1-Score: 0.019908493282629922\n",
      "Average Precision: 0.12691694430991932\n"
     ]
    },
    {
     "name": "stderr",
     "output_type": "stream",
     "text": [
      "C:\\Users\\ali_a\\AppData\\Roaming\\Python\\Python313\\site-packages\\sklearn\\metrics\\_classification.py:1731: UndefinedMetricWarning: Precision is ill-defined and being set to 0.0 in labels with no predicted samples. Use `zero_division` parameter to control this behavior.\n",
      "  _warn_prf(average, modifier, f\"{metric.capitalize()} is\", result.shape[0])\n"
     ]
    }
   ],
   "source": [
    "metrics = evaluate_model(model, test_loader)"
   ]
  },
  {
   "cell_type": "markdown",
   "id": "cdffd7f7",
   "metadata": {},
   "source": [
    "# Saving and Loading Models"
   ]
  },
  {
   "cell_type": "markdown",
   "id": "00049ad3",
   "metadata": {},
   "source": [
    "Now we turn our attention to saving and loading models. First we will save the model we just trained."
   ]
  },
  {
   "cell_type": "code",
   "execution_count": null,
   "id": "54f6ad44",
   "metadata": {},
   "outputs": [],
   "source": [
    "# Save the model\n",
    "torch.save(model.state_dict(), 'chestmnist_model.pth')"
   ]
  },
  {
   "cell_type": "markdown",
   "id": "1f774a18",
   "metadata": {},
   "source": [
    "We can then load the model once again."
   ]
  },
  {
   "cell_type": "code",
   "execution_count": null,
   "id": "f9049bd7",
   "metadata": {},
   "outputs": [
    {
     "data": {
      "text/plain": [
       "<All keys matched successfully>"
      ]
     },
     "metadata": {},
     "output_type": "display_data"
    }
   ],
   "source": [
    "# Load the model\n",
    "net = SimpleNN(input_size=28*28, num_classes=14).to(device)\n",
    "net.load_state_dict(torch.load('chestmnist_model.pth'))"
   ]
  },
  {
   "cell_type": "markdown",
   "id": "dda777ab",
   "metadata": {},
   "source": [
    "If we evalute the loaded model once more, you will see that they have similar results."
   ]
  },
  {
   "cell_type": "code",
   "execution_count": null,
   "id": "9d7391d3",
   "metadata": {},
   "outputs": [
    {
     "name": "stdout",
     "output_type": "stream",
     "text": [
      "Hamming Loss: 0.052537397074463005\n",
      "Subset Accuracy: 0.530869700887086\n",
      "Precision: 0.16094882025467933\n",
      "Recall: 0.011337376773118317\n",
      "F1-Score: 0.019908493282629922\n",
      "Average Precision: 0.12691694430991932\n"
     ]
    },
    {
     "name": "stderr",
     "output_type": "stream",
     "text": [
      "C:\\Users\\ali_a\\AppData\\Roaming\\Python\\Python313\\site-packages\\sklearn\\metrics\\_classification.py:1731: UndefinedMetricWarning: Precision is ill-defined and being set to 0.0 in labels with no predicted samples. Use `zero_division` parameter to control this behavior.\n",
      "  _warn_prf(average, modifier, f\"{metric.capitalize()} is\", result.shape[0])\n"
     ]
    }
   ],
   "source": [
    "metrics = evaluate_model(net, test_loader, device)"
   ]
  }
 ],
 "metadata": {
  "language_info": {
   "name": "python"
  }
 },
 "nbformat": 4,
 "nbformat_minor": 5
}
