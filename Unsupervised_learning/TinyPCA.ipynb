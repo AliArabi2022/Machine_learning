{
 "cells": [
  {
   "cell_type": "code",
   "execution_count": null,
   "id": "24f680a0",
   "metadata": {},
   "outputs": [],
   "source": [
    "import numpy as np\n",
    "import matplotlib.pyplot as plt\n",
    "from sklearn.datasets import fetch_openml\n",
    "\n",
    "mnist, labels = fetch_openml('mnist_784', version=1, return_X_y=True, as_frame=False)\n",
    "mnist = mnist.astype('float32') / 255.0\n",
    "labels = labels.astype(int)\n",
    "num_pcs = 20\n",
    "\n",
    "def pca(X, num_components):\n",
    "    X_meaned = X - np.mean(X, axis=0)\n",
    "    covariance_matrix = np.cov(X_meaned, rowvar=False)\n",
    "    eigenvalues, eigenvectors = np.linalg.eigh(covariance_matrix)\n",
    "    sorted_index = np.argsort(eigenvalues)[::-1]\n",
    "    sorted_eigenvectors = eigenvectors[:, sorted_index]\n",
    "    eigenvector_subset = sorted_eigenvectors[:, :num_components]\n",
    "    X_reduced = np.dot(X_meaned, eigenvector_subset)\n",
    "    return X_reduced, eigenvector_subset\n",
    "\n",
    "mnist_reduced, eigenvector_subset = pca(mnist, num_pcs)\n",
    "plt.figure(figsize=(8, 6))\n",
    "scatter = plt.scatter(mnist_reduced[:, 0], mnist_reduced[:, 1], c=labels, cmap='tab10', alpha=0.7)\n",
    "plt.colorbar(scatter)\n",
    "plt.xlabel('PC1')\n",
    "plt.ylabel('PC2')\n",
    "plt.show()"
   ]
  }
 ],
 "metadata": {
  "language_info": {
   "name": "python"
  }
 },
 "nbformat": 4,
 "nbformat_minor": 5
}
